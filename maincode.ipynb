{
  "nbformat": 4,
  "nbformat_minor": 0,
  "metadata": {
    "colab": {
      "provenance": []
    },
    "kernelspec": {
      "display_name": "Python 3",
      "language": "python",
      "name": "python3"
    },
    "language_info": {
      "codemirror_mode": {
        "name": "ipython",
        "version": 3
      },
      "file_extension": ".py",
      "mimetype": "text/x-python",
      "name": "python",
      "nbconvert_exporter": "python",
      "pygments_lexer": "ipython3",
      "version": "3.6.8"
    }
  },
  "cells": [
    {
      "cell_type": "code",
      "metadata": {
        "id": "-V_jS65FyA-5"
      },
      "source": [
        "# Run this every time you open the spreadsheet\n",
        "%load_ext autoreload\n",
        "%autoreload 2"
      ],
      "execution_count": null,
      "outputs": []
    },
    {
      "cell_type": "markdown",
      "metadata": {
        "id": "X5Ea6C4cInZc"
      },
      "source": [
        "### Problem 1\n",
        "\n",
        "Let's first observe how scikit-learn's KMeans classifier works on some randomly generated data. We'll make use of the `make_blobs()` method in `sklearn.datasets`, which randomly generates points that naturally fit into groups (called 'blobs'). This gives us a good dataset to demonstrate the results of KMeans clustering.\n",
        "\n",
        "> We start by importing all the libraries and methods we need."
      ]
    },
    {
      "cell_type": "code",
      "metadata": {
        "id": "0VdAE6tCJRvS"
      },
      "source": [
        "import matplotlib.pyplot as plt\n",
        "from sklearn.cluster import KMeans\n",
        "from sklearn.datasets import make_blobs"
      ],
      "execution_count": null,
      "outputs": []
    },
    {
      "cell_type": "markdown",
      "metadata": {
        "id": "p4S0nhojNOzi"
      },
      "source": [
        "> Now we can use `make_blobs()` to, well, make some blobs. We can specify how many points to generate with `n_samples` and how many blobs to make with `centers`. `random_state` is a seed for the random number generator. Here, we specify that 5 blobs should be made."
      ]
    },
    {
      "cell_type": "code",
      "metadata": {
        "id": "_v1kG2UaNRLp"
      },
      "source": [
        "# random_state can be any integer value. It is used as a seed for\n",
        "# the random generator so that we get the same random results every\n",
        "# time. Without this specified, each run of this code would produce\n",
        "# a new random set of values. Feel free to change this value to see\n",
        "# what different results show up.\n",
        "random_state = 42\n",
        "# n_samples specifies how many points to generate.\n",
        "# centers specifies how many blobs to make.\n",
        "X, y = make_blobs(n_samples=2000, centers=5, random_state=random_state)"
      ],
      "execution_count": null,
      "outputs": []
    },
    {
      "cell_type": "markdown",
      "metadata": {
        "id": "gYSIAN6LNxsG"
      },
